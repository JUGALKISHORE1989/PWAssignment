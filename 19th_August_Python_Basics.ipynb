{
 "cells": [
  {
   "cell_type": "code",
   "execution_count": 1,
   "id": "27668f03-ae70-45aa-a13c-bd80ced75280",
   "metadata": {},
   "outputs": [],
   "source": [
    "# TOPIC: Python Basics Variable"
   ]
  },
  {
   "cell_type": "code",
   "execution_count": 3,
   "id": "098e23ce-ba4d-4fa2-a5ba-5d94f17a4d36",
   "metadata": {},
   "outputs": [],
   "source": [
    "# 1.Declare two variables, `x` and `y`, and assign them integer values. \n",
    "# Swap the values of these variables without using any temporary variable."
   ]
  },
  {
   "cell_type": "code",
   "execution_count": 4,
   "id": "cd5992e1-a784-4ad9-9ec9-57226a9c3ba3",
   "metadata": {},
   "outputs": [],
   "source": [
    "x = 10\n",
    "y = 20"
   ]
  },
  {
   "cell_type": "code",
   "execution_count": 5,
   "id": "f7532ed9-2d72-45ff-97f2-878c233a0e12",
   "metadata": {},
   "outputs": [],
   "source": [
    "x = x+y\n",
    "y = x-y\n",
    "x = x-y"
   ]
  },
  {
   "cell_type": "code",
   "execution_count": 9,
   "id": "5c341eea-290d-45ee-bd22-f36870098947",
   "metadata": {},
   "outputs": [
    {
     "name": "stdout",
     "output_type": "stream",
     "text": [
      "Value of X after swap is :  20\n",
      "Value of Y after swap is :  10\n"
     ]
    }
   ],
   "source": [
    "print( \"Value of X after swap is : \" , x) \n",
    "print( \"Value of Y after swap is : \" , y) "
   ]
  },
  {
   "cell_type": "code",
   "execution_count": 10,
   "id": "cd212bdc-6b68-4261-b893-db5b8090e56e",
   "metadata": {},
   "outputs": [],
   "source": [
    "# 2. Create a program that calculates the area of a rectangle. Take the length and\n",
    "# width as inputs from the user and store them in variables. Calculate and\n",
    "# display the area."
   ]
  },
  {
   "cell_type": "code",
   "execution_count": 12,
   "id": "3bb716a0-8e86-452d-89b7-cca1af3e5212",
   "metadata": {},
   "outputs": [
    {
     "name": "stdin",
     "output_type": "stream",
     "text": [
      "enter the length of rectangle 10\n",
      "enter the width of rectangle 20\n"
     ]
    },
    {
     "name": "stdout",
     "output_type": "stream",
     "text": [
      "Area of rectangle is : 200\n"
     ]
    }
   ],
   "source": [
    " length = int(input(\"enter the length of rectangle\"))\n",
    " width  = int(input(\"enter the width of rectangle\"))\n",
    "Area_of_rectangle = length * width\n",
    "print( \"Area of rectangle is :\" , Area_of_rectangle)"
   ]
  },
  {
   "cell_type": "code",
   "execution_count": null,
   "id": "103391f2-18d2-470d-a78c-129396d71ea0",
   "metadata": {},
   "outputs": [],
   "source": [
    "# 3. Write a Python program that converts temperatures from Celsius to\n",
    "# Fahrenheit. Take the temperature in Celsius as input, store it in a variable,\n",
    "# convert it to Fahrenheit, and display the result.\n",
    "Temp_cel = float(input(\"Enter the temperature in celsius\"))\n",
    "Tem_Farenheight = Temp_cel*1.8+32\n",
    "print(\"The Temperature in Farenheit is : \",   Tem_Farenheight)"
   ]
  },
  {
   "cell_type": "code",
   "execution_count": 14,
   "id": "11ebb929-64b7-4088-9d19-284e8393f108",
   "metadata": {},
   "outputs": [
    {
     "name": "stdin",
     "output_type": "stream",
     "text": [
      "Enter the temperature in celsius 89.6\n"
     ]
    },
    {
     "name": "stdout",
     "output_type": "stream",
     "text": [
      "The Temperature in Farenheit is :  193.28\n"
     ]
    }
   ],
   "source": []
  },
  {
   "cell_type": "code",
   "execution_count": 15,
   "id": "849c5191-0a03-45e7-885d-827006274e37",
   "metadata": {},
   "outputs": [],
   "source": [
    "#  TOPIC: String Based Questions"
   ]
  },
  {
   "cell_type": "code",
   "execution_count": 28,
   "id": "f28be111-471e-457e-928f-39419a3536ba",
   "metadata": {},
   "outputs": [
    {
     "name": "stdin",
     "output_type": "stream",
     "text": [
      "Input the string to find the length of the string diwen\n"
     ]
    },
    {
     "name": "stdout",
     "output_type": "stream",
     "text": [
      " The length of the string is  5\n"
     ]
    }
   ],
   "source": [
    "# 1. Write a Python program that takes a string as input and prints the length of\n",
    "# the string.\n",
    "str_len = input(\"Input the string to find the length of the string\")\n",
    "print( \" The length of the string is \" ,len(str_len))"
   ]
  },
  {
   "cell_type": "code",
   "execution_count": 27,
   "id": "17a7b9a7-e2e4-4766-a674-085d65e671dd",
   "metadata": {},
   "outputs": [
    {
     "name": "stdin",
     "output_type": "stream",
     "text": [
      "Enter the string to find number of vowels in it  This is the test sste\n"
     ]
    },
    {
     "name": "stdout",
     "output_type": "stream",
     "text": [
      "6\n"
     ]
    }
   ],
   "source": [
    "# 2. Create a program that takes a sentence from the user and counts the number\n",
    "# of vowels (a, e, i, o, u) in the string.\n",
    "str_input = input(\"Enter the string to find number of vowels in it \")\n",
    "vowels = \"aeiouAEIOU\"\n",
    " \n",
    "count = sum(string.count(vowel) for vowel in vowels)\n",
    "print(count)\n"
   ]
  },
  {
   "cell_type": "code",
   "execution_count": 21,
   "id": "5470f253-c16d-4259-9fd2-bd45e3ba5d3c",
   "metadata": {},
   "outputs": [
    {
     "name": "stdin",
     "output_type": "stream",
     "text": [
      "enter the string to reverse test system\n"
     ]
    },
    {
     "data": {
      "text/plain": [
       "'metsys tset'"
      ]
     },
     "execution_count": 21,
     "metadata": {},
     "output_type": "execute_result"
    }
   ],
   "source": [
    "# 3. Given a string, reverse the order of characters using string slicing and print\n",
    "# the reversed string.\n",
    "str_sli = input(\"enter the string to reverse\")\n",
    "str_sli[::-1]"
   ]
  },
  {
   "cell_type": "code",
   "execution_count": 24,
   "id": "48fb5e15-e076-4aa1-8c7c-6f70bf83e3f0",
   "metadata": {},
   "outputs": [
    {
     "name": "stdin",
     "output_type": "stream",
     "text": [
      "Input the string for reverse malayalam\n"
     ]
    },
    {
     "name": "stdout",
     "output_type": "stream",
     "text": [
      "Yes\n"
     ]
    }
   ],
   "source": [
    "# 4. Write a program that takes a string as input and checks if it is a palindrome\n",
    "# (reads the same forwards and backwards).\n",
    " \n",
    "def isPalindrome(s):\n",
    "\treturn s == s[::-1]\n",
    "\n",
    "s = input(\"Input the string for reverse\")\n",
    "ans = isPalindrome(s)\n",
    "\n",
    "if ans:\n",
    "\tprint(\"Yes\")\n",
    "else:\n",
    "\tprint(\"No\")\n"
   ]
  },
  {
   "cell_type": "code",
   "execution_count": 25,
   "id": "0b048868-3588-44d0-bc1f-ef145731323f",
   "metadata": {},
   "outputs": [
    {
     "name": "stdin",
     "output_type": "stream",
     "text": [
      "Input the string to remove the space    test    \n"
     ]
    },
    {
     "name": "stdout",
     "output_type": "stream",
     "text": [
      "test\n"
     ]
    }
   ],
   "source": [
    "# 5. Create a program that takes a string as input and removes all the spaces from\n",
    "# it. Print the modified string without spaces.\n",
    "str_spac = input(\"Input the string to remove the space\")\n",
    "print( str_spac.strip())"
   ]
  },
  {
   "cell_type": "code",
   "execution_count": null,
   "id": "abc2c3d1-ef66-492e-9148-850bcd673c94",
   "metadata": {},
   "outputs": [],
   "source": []
  }
 ],
 "metadata": {
  "kernelspec": {
   "display_name": "Python 3 (ipykernel)",
   "language": "python",
   "name": "python3"
  },
  "language_info": {
   "codemirror_mode": {
    "name": "ipython",
    "version": 3
   },
   "file_extension": ".py",
   "mimetype": "text/x-python",
   "name": "python",
   "nbconvert_exporter": "python",
   "pygments_lexer": "ipython3",
   "version": "3.10.8"
  }
 },
 "nbformat": 4,
 "nbformat_minor": 5
}
